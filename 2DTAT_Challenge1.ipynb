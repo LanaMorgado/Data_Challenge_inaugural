{
 "cells": [
  {
   "cell_type": "code",
   "execution_count": 2,
   "id": "3b5b19e0",
   "metadata": {},
   "outputs": [],
   "source": [
    "import pandas as pd \n",
    "import matplotlib.pyplot as plt\n",
    "import seaborn as sns"
   ]
  },
  {
   "cell_type": "code",
   "execution_count": 3,
   "id": "aa21a48c",
   "metadata": {},
   "outputs": [],
   "source": [
    "desafio1 = pd.read_csv('2DTAT_Challenge1_Excel.csv', encoding='ISO-8859-1', sep=';', thousands='.', decimal=',' )"
   ]
  },
  {
   "cell_type": "markdown",
   "id": "bf532377",
   "metadata": {},
   "source": [
    "* Busque pela documentação \"pandas.read_csv\" para te ajudar na correções."
   ]
  },
  {
   "cell_type": "code",
   "execution_count": 4,
   "id": "49ff696e",
   "metadata": {},
   "outputs": [
    {
     "data": {
      "text/html": [
       "<div>\n",
       "<style scoped>\n",
       "    .dataframe tbody tr th:only-of-type {\n",
       "        vertical-align: middle;\n",
       "    }\n",
       "\n",
       "    .dataframe tbody tr th {\n",
       "        vertical-align: top;\n",
       "    }\n",
       "\n",
       "    .dataframe thead th {\n",
       "        text-align: right;\n",
       "    }\n",
       "</style>\n",
       "<table border=\"1\" class=\"dataframe\">\n",
       "  <thead>\n",
       "    <tr style=\"text-align: right;\">\n",
       "      <th></th>\n",
       "      <th>ï»¿mpg</th>\n",
       "      <th>cylinders</th>\n",
       "      <th>displacement</th>\n",
       "      <th>horsepower</th>\n",
       "      <th>weight</th>\n",
       "      <th>acceleration</th>\n",
       "      <th>model year</th>\n",
       "      <th>origin</th>\n",
       "      <th>car name</th>\n",
       "    </tr>\n",
       "  </thead>\n",
       "  <tbody>\n",
       "    <tr>\n",
       "      <th>0</th>\n",
       "      <td>18.0</td>\n",
       "      <td>8.0</td>\n",
       "      <td>307.0</td>\n",
       "      <td>130.0</td>\n",
       "      <td>3504.0</td>\n",
       "      <td>12.0</td>\n",
       "      <td>70.0</td>\n",
       "      <td>1.0</td>\n",
       "      <td>chevrolet chevelle malibu</td>\n",
       "    </tr>\n",
       "    <tr>\n",
       "      <th>1</th>\n",
       "      <td>15.0</td>\n",
       "      <td>8.0</td>\n",
       "      <td>350.0</td>\n",
       "      <td>165.0</td>\n",
       "      <td>3693.0</td>\n",
       "      <td>11.5</td>\n",
       "      <td>70.0</td>\n",
       "      <td>1.0</td>\n",
       "      <td>buick skylark 320</td>\n",
       "    </tr>\n",
       "    <tr>\n",
       "      <th>2</th>\n",
       "      <td>18.0</td>\n",
       "      <td>8.0</td>\n",
       "      <td>318.0</td>\n",
       "      <td>150.0</td>\n",
       "      <td>3436.0</td>\n",
       "      <td>11.0</td>\n",
       "      <td>70.0</td>\n",
       "      <td>1.0</td>\n",
       "      <td>plymouth satellite</td>\n",
       "    </tr>\n",
       "    <tr>\n",
       "      <th>3</th>\n",
       "      <td>16.0</td>\n",
       "      <td>8.0</td>\n",
       "      <td>304.0</td>\n",
       "      <td>150.0</td>\n",
       "      <td>3433.0</td>\n",
       "      <td>12.0</td>\n",
       "      <td>70.0</td>\n",
       "      <td>1.0</td>\n",
       "      <td>amc rebel sst</td>\n",
       "    </tr>\n",
       "    <tr>\n",
       "      <th>4</th>\n",
       "      <td>17.0</td>\n",
       "      <td>8.0</td>\n",
       "      <td>302.0</td>\n",
       "      <td>140.0</td>\n",
       "      <td>3449.0</td>\n",
       "      <td>10.5</td>\n",
       "      <td>70.0</td>\n",
       "      <td>1.0</td>\n",
       "      <td>ford torino</td>\n",
       "    </tr>\n",
       "  </tbody>\n",
       "</table>\n",
       "</div>"
      ],
      "text/plain": [
       "   ï»¿mpg  cylinders  displacement  horsepower  weight  acceleration  \\\n",
       "0    18.0        8.0         307.0       130.0  3504.0          12.0   \n",
       "1    15.0        8.0         350.0       165.0  3693.0          11.5   \n",
       "2    18.0        8.0         318.0       150.0  3436.0          11.0   \n",
       "3    16.0        8.0         304.0       150.0  3433.0          12.0   \n",
       "4    17.0        8.0         302.0       140.0  3449.0          10.5   \n",
       "\n",
       "   model year  origin                   car name  \n",
       "0        70.0     1.0  chevrolet chevelle malibu  \n",
       "1        70.0     1.0          buick skylark 320  \n",
       "2        70.0     1.0         plymouth satellite  \n",
       "3        70.0     1.0              amc rebel sst  \n",
       "4        70.0     1.0                ford torino  "
      ]
     },
     "execution_count": 4,
     "metadata": {},
     "output_type": "execute_result"
    }
   ],
   "source": [
    "desafio1.head()"
   ]
  },
  {
   "cell_type": "code",
   "execution_count": 5,
   "id": "736f2ef1",
   "metadata": {},
   "outputs": [],
   "source": [
    "desafio1.rename(columns={'ï»¿mpg': 'mpg'}, inplace=True)"
   ]
  },
  {
   "cell_type": "code",
   "execution_count": 6,
   "id": "d7d94e09",
   "metadata": {},
   "outputs": [
    {
     "data": {
      "text/html": [
       "<div>\n",
       "<style scoped>\n",
       "    .dataframe tbody tr th:only-of-type {\n",
       "        vertical-align: middle;\n",
       "    }\n",
       "\n",
       "    .dataframe tbody tr th {\n",
       "        vertical-align: top;\n",
       "    }\n",
       "\n",
       "    .dataframe thead th {\n",
       "        text-align: right;\n",
       "    }\n",
       "</style>\n",
       "<table border=\"1\" class=\"dataframe\">\n",
       "  <thead>\n",
       "    <tr style=\"text-align: right;\">\n",
       "      <th></th>\n",
       "      <th>mpg</th>\n",
       "      <th>cylinders</th>\n",
       "      <th>displacement</th>\n",
       "      <th>horsepower</th>\n",
       "      <th>weight</th>\n",
       "      <th>acceleration</th>\n",
       "      <th>model year</th>\n",
       "      <th>origin</th>\n",
       "      <th>car name</th>\n",
       "    </tr>\n",
       "  </thead>\n",
       "  <tbody>\n",
       "    <tr>\n",
       "      <th>401</th>\n",
       "      <td>27.0</td>\n",
       "      <td>4.0</td>\n",
       "      <td>140.0</td>\n",
       "      <td>860.0</td>\n",
       "      <td>2790.0</td>\n",
       "      <td>15.6</td>\n",
       "      <td>82.0</td>\n",
       "      <td>1.0</td>\n",
       "      <td>ford mustang gl</td>\n",
       "    </tr>\n",
       "    <tr>\n",
       "      <th>402</th>\n",
       "      <td>44.0</td>\n",
       "      <td>4.0</td>\n",
       "      <td>970.0</td>\n",
       "      <td>520.0</td>\n",
       "      <td>2130.0</td>\n",
       "      <td>24.6</td>\n",
       "      <td>82.0</td>\n",
       "      <td>2.0</td>\n",
       "      <td>vw pickup</td>\n",
       "    </tr>\n",
       "    <tr>\n",
       "      <th>403</th>\n",
       "      <td>32.0</td>\n",
       "      <td>4.0</td>\n",
       "      <td>135.0</td>\n",
       "      <td>840.0</td>\n",
       "      <td>2295.0</td>\n",
       "      <td>11.6</td>\n",
       "      <td>82.0</td>\n",
       "      <td>1.0</td>\n",
       "      <td>dodge rampage</td>\n",
       "    </tr>\n",
       "    <tr>\n",
       "      <th>404</th>\n",
       "      <td>28.0</td>\n",
       "      <td>4.0</td>\n",
       "      <td>120.0</td>\n",
       "      <td>790.0</td>\n",
       "      <td>2625.0</td>\n",
       "      <td>18.6</td>\n",
       "      <td>82.0</td>\n",
       "      <td>1.0</td>\n",
       "      <td>ford ranger</td>\n",
       "    </tr>\n",
       "    <tr>\n",
       "      <th>405</th>\n",
       "      <td>31.0</td>\n",
       "      <td>4.0</td>\n",
       "      <td>119.0</td>\n",
       "      <td>820.0</td>\n",
       "      <td>2720.0</td>\n",
       "      <td>19.4</td>\n",
       "      <td>82.0</td>\n",
       "      <td>1.0</td>\n",
       "      <td>chevy s-10</td>\n",
       "    </tr>\n",
       "  </tbody>\n",
       "</table>\n",
       "</div>"
      ],
      "text/plain": [
       "      mpg  cylinders  displacement  horsepower  weight  acceleration  \\\n",
       "401  27.0        4.0         140.0       860.0  2790.0          15.6   \n",
       "402  44.0        4.0         970.0       520.0  2130.0          24.6   \n",
       "403  32.0        4.0         135.0       840.0  2295.0          11.6   \n",
       "404  28.0        4.0         120.0       790.0  2625.0          18.6   \n",
       "405  31.0        4.0         119.0       820.0  2720.0          19.4   \n",
       "\n",
       "     model year  origin         car name  \n",
       "401        82.0     1.0  ford mustang gl  \n",
       "402        82.0     2.0        vw pickup  \n",
       "403        82.0     1.0    dodge rampage  \n",
       "404        82.0     1.0      ford ranger  \n",
       "405        82.0     1.0       chevy s-10  "
      ]
     },
     "execution_count": 6,
     "metadata": {},
     "output_type": "execute_result"
    }
   ],
   "source": [
    "desafio1.tail()"
   ]
  },
  {
   "cell_type": "markdown",
   "id": "02c5ddf2",
   "metadata": {},
   "source": [
    " **1. Qual a dimensão do dataset inicialmente em (linhas, colunas)?**\n",
    "1. (390,9)\n",
    "\n",
    "2. **(406,9)**\n",
    "\n",
    "3. (406,8)\n",
    "\n",
    "4. (405,9)\n",
    "\n",
    "5. (390,7)\n"
   ]
  },
  {
   "cell_type": "code",
   "execution_count": 7,
   "id": "50a00ca5",
   "metadata": {},
   "outputs": [
    {
     "name": "stdout",
     "output_type": "stream",
     "text": [
      "<class 'pandas.core.frame.DataFrame'>\n",
      "RangeIndex: 406 entries, 0 to 405\n",
      "Data columns (total 9 columns):\n",
      " #   Column        Non-Null Count  Dtype  \n",
      "---  ------        --------------  -----  \n",
      " 0   mpg           398 non-null    float64\n",
      " 1   cylinders     406 non-null    float64\n",
      " 2   displacement  406 non-null    float64\n",
      " 3   horsepower    400 non-null    float64\n",
      " 4   weight        406 non-null    float64\n",
      " 5   acceleration  406 non-null    float64\n",
      " 6   model year    406 non-null    float64\n",
      " 7   origin        406 non-null    float64\n",
      " 8   car name      406 non-null    object \n",
      "dtypes: float64(8), object(1)\n",
      "memory usage: 28.7+ KB\n"
     ]
    }
   ],
   "source": [
    "desafio1.info()"
   ]
  },
  {
   "cell_type": "code",
   "execution_count": 8,
   "id": "09e67610",
   "metadata": {},
   "outputs": [
    {
     "data": {
      "text/plain": [
       "(406, 9)"
      ]
     },
     "execution_count": 8,
     "metadata": {},
     "output_type": "execute_result"
    }
   ],
   "source": [
    "desafio1.shape"
   ]
  },
  {
   "cell_type": "markdown",
   "id": "420e7d4d",
   "metadata": {},
   "source": [
    "**2. Em uma análise de dados, é muito comum fazermos as limpezas dos valores nulos\n",
    "para que consigamos analisar principalmente dados numéricos, onde podemos\n",
    "substituir os valores nulos por algum valor que deixe os dados mais próximos da\n",
    "realidade, ou simplesmente excluir as linhas onde eles estão. Se optarmos excluir as\n",
    "linhas com valores nulos em qualquer coluna para que possamos, nosso dataset\n",
    "passará a ter quantas linhas?**\n",
    "1. 401\n",
    "2. 400\n",
    "3. **392**\n",
    "4. 350\n",
    "5. 399\n",
    "\n",
    "Resposta: 8+6=14 -- 406-14=392"
   ]
  },
  {
   "cell_type": "code",
   "execution_count": 9,
   "id": "5fc4c128",
   "metadata": {},
   "outputs": [
    {
     "data": {
      "text/plain": [
       "mpg             8\n",
       "cylinders       0\n",
       "displacement    0\n",
       "horsepower      6\n",
       "weight          0\n",
       "acceleration    0\n",
       "model year      0\n",
       "origin          0\n",
       "car name        0\n",
       "dtype: int64"
      ]
     },
     "execution_count": 9,
     "metadata": {},
     "output_type": "execute_result"
    }
   ],
   "source": [
    "desafio1.isnull().sum()"
   ]
  },
  {
   "cell_type": "markdown",
   "id": "370fc3ad",
   "metadata": {},
   "source": [
    "**3. Se quisermos carregar o dataset via python, precisaremos da biblioteca \"pandas\".\n",
    "Qual a sintaxe correta para essa ação?**\n",
    "1. pd.to_excel('auto-mpg-original.csv', sep = ';')\n",
    "2. pd.to_csv('auto-mpg-original.csv', sep = ';')\n",
    "3. pd.read_csv('auto-mpg-original.csv', sep = ' , ')\n",
    "4. pd.read_excel('auto-mpg-original.csv', sep = ' , ')\n",
    "5. **pd.read_csv('auto-mpg-original.csv', sep = ' ; ')**\n"
   ]
  },
  {
   "cell_type": "markdown",
   "id": "f81decc2",
   "metadata": {},
   "source": [
    "**4. Olhando para o ano de fabricação, qual ano corresponde a carros com maior\n",
    "economia de milhas por galão (mpg) ?**\n",
    "1. 78\n",
    "2. 75\n",
    "3. 72\n",
    "4. **80**\n",
    "5. 79\n"
   ]
  },
  {
   "cell_type": "code",
   "execution_count": 11,
   "id": "5a632a0d",
   "metadata": {},
   "outputs": [],
   "source": [
    "media_mpg_por_ano = desafio1.groupby('model year')['mpg'].mean()"
   ]
  },
  {
   "cell_type": "code",
   "execution_count": 12,
   "id": "09e4184e",
   "metadata": {},
   "outputs": [],
   "source": [
    "ano_max_mpg = media_mpg_por_ano.idxmax()\n",
    "max_mpg = media_mpg_por_ano.max()"
   ]
  },
  {
   "cell_type": "code",
   "execution_count": 13,
   "id": "32262ffa",
   "metadata": {},
   "outputs": [
    {
     "name": "stdout",
     "output_type": "stream",
     "text": [
      "Ano com maior média de mpg: 80.0 com 296.62 mpg\n"
     ]
    }
   ],
   "source": [
    "print(f'Ano com maior média de mpg: {ano_max_mpg} com {max_mpg:.2f} mpg')"
   ]
  },
  {
   "cell_type": "markdown",
   "id": "4e2dac04",
   "metadata": {},
   "source": [
    "**informações:** \n",
    "    \n",
    "**O intervalo interquartil, frequentemente abreviado como IQR (do inglês Interquartile Range), \n",
    "é uma medida estatística que descreve a dispersão ou a variação dos dados em um conjunto. \n",
    "Ele é calculado a partir dos quartis de um conjunto de dados e é usado principalmente para avaliar \n",
    "a dispersão dos valores em torno da mediana.**\n",
    "\n",
    "**Quartis são valores que dividem um conjunto de dados ordenado em quatro partes iguais, representando \n",
    "os percentis 25%, 50% (que é a mediana) e 75% dos dados. O intervalo interquartil é a diferença entre \n",
    "o terceiro quartil (Q3, que é o valor aos 75%) e o primeiro quartil (Q1, que é o valor aos 25%).**\n",
    "\n",
    "**A fórmula para calcular o intervalo interquartil é:**\n",
    "\n",
    "- IQR=Q3−Q1\n",
    "\n",
    "**Onde:**\n",
    "- Q1 é o primeiro quartil (25% dos dados estão abaixo deste valor).\n",
    "- Q3 é o terceiro quartil (75% dos dados estão abaixo deste valor).\n",
    "\n",
    "**O IQR é uma medida de dispersão robusta, o que significa que ele não é sensível a valores extremos (outliers) no conjunto de dados, ao contrário do desvio padrão, por exemplo. É útil para identificar a amplitude na qual a maioria dos dados está concentrada, permitindo detectar a presença de valores atípicos ou discrepantes.**\n",
    "\n",
    "**Em termos simples, o IQR fornece uma noção de quão espalhados os valores do conjunto de dados estão na região intermediária, onde a maioria dos dados está localizada, ignorando valores extremos que podem distorcer outras medidas de dispersão mais sensíveis.**"
   ]
  },
  {
   "cell_type": "markdown",
   "id": "ece3be8a",
   "metadata": {},
   "source": [
    "**5. No intervalo interquartil, diga o valor para o 3º quartil da coluna \"horsepower\"**\n",
    "1. **840**\n",
    "2. 650\n",
    "3. 320\n",
    "4. 780\n",
    "5. 575"
   ]
  },
  {
   "cell_type": "code",
   "execution_count": 14,
   "id": "3b3f0dc3",
   "metadata": {},
   "outputs": [
    {
     "name": "stdout",
     "output_type": "stream",
     "text": [
      "Terceiro quartil (Q3) da coluna 'horsepower': 830.00\n",
      "Intervalo interquartil (IQR): 685.00\n"
     ]
    }
   ],
   "source": [
    "# Calcular o primeiro quartil (Q1) da coluna \"horsepower\"\n",
    "Q1 = desafio1[\"horsepower\"].quantile(0.25)\n",
    "\n",
    "# Calcular o terceiro quartil (Q3) da coluna \"horsepower\"\n",
    "Q3 = desafio1[\"horsepower\"].quantile(0.75)\n",
    "\n",
    "# Calcular o intervalo interquartil (IQR)\n",
    "IQR = Q3 - Q1\n",
    "\n",
    "print(f\"Terceiro quartil (Q3) da coluna 'horsepower': {Q3:.2f}\")\n",
    "print(f\"Intervalo interquartil (IQR): {IQR:.2f}\")"
   ]
  },
  {
   "cell_type": "markdown",
   "id": "bb064b3c",
   "metadata": {},
   "source": [
    "**6. Após a limpeza dos dados(dropar as linhas com valores nulos), quantos tipos de\n",
    "carros distintos nós temos em nossa base?**\n",
    "1. 300\n",
    "2. **301**\n",
    "3. 302\n",
    "4. 310\n",
    "5. 305"
   ]
  },
  {
   "cell_type": "code",
   "execution_count": 15,
   "id": "dfe3dd88",
   "metadata": {},
   "outputs": [],
   "source": [
    "desafio1_limpo = desafio1.dropna()"
   ]
  },
  {
   "cell_type": "code",
   "execution_count": 16,
   "id": "17ae1192",
   "metadata": {},
   "outputs": [
    {
     "data": {
      "text/plain": [
       "mpg             0\n",
       "cylinders       0\n",
       "displacement    0\n",
       "horsepower      0\n",
       "weight          0\n",
       "acceleration    0\n",
       "model year      0\n",
       "origin          0\n",
       "car name        0\n",
       "dtype: int64"
      ]
     },
     "execution_count": 16,
     "metadata": {},
     "output_type": "execute_result"
    }
   ],
   "source": [
    "desafio1_limpo.isnull().sum()"
   ]
  },
  {
   "cell_type": "code",
   "execution_count": 17,
   "id": "68fab318",
   "metadata": {},
   "outputs": [
    {
     "data": {
      "text/plain": [
       "mpg             127\n",
       "cylinders         5\n",
       "displacement     81\n",
       "horsepower       93\n",
       "weight          346\n",
       "acceleration     95\n",
       "model year       13\n",
       "origin            3\n",
       "car name        301\n",
       "dtype: int64"
      ]
     },
     "execution_count": 17,
     "metadata": {},
     "output_type": "execute_result"
    }
   ],
   "source": [
    "desafio1_limpo.nunique()"
   ]
  },
  {
   "cell_type": "markdown",
   "id": "7efdead2",
   "metadata": {},
   "source": [
    "**7. Qual o desvio padrão aproximado da coluna \"mpg\"?**\n",
    "1. 27.2\n",
    "2. 10.2\n",
    "3. **7.8**\n",
    "4. 23.4\n",
    "5. 25\n"
   ]
  },
  {
   "cell_type": "code",
   "execution_count": 18,
   "id": "9c509aa8",
   "metadata": {},
   "outputs": [
    {
     "data": {
      "text/plain": [
       "125.78974897444009"
      ]
     },
     "execution_count": 18,
     "metadata": {},
     "output_type": "execute_result"
    }
   ],
   "source": [
    "## O float está alterando o valor\n",
    "desafio1['mpg'].std()"
   ]
  },
  {
   "cell_type": "markdown",
   "id": "313a4a1c",
   "metadata": {},
   "source": [
    "**8. Qual o valor da correlação entre as colunas \"cylinders\" e \"weight\"? Obs: Considere\n",
    "o coeficiente de correlação de Pearson**\n",
    "1. 0.4\n",
    "2. 0.7\n",
    "3. 0.2\n",
    "4. 0.5\n",
    "5. **0.9**"
   ]
  },
  {
   "cell_type": "code",
   "execution_count": 20,
   "id": "261b501e",
   "metadata": {},
   "outputs": [],
   "source": [
    "correlacao_cylinders_weight = desafio1['cylinders'].corr(desafio1['weight'])"
   ]
  },
  {
   "cell_type": "code",
   "execution_count": 21,
   "id": "d4a3162e",
   "metadata": {},
   "outputs": [
    {
     "name": "stdout",
     "output_type": "stream",
     "text": [
      "Correlação entre as colunas 'cylinders' e 'weight': 0.90\n"
     ]
    }
   ],
   "source": [
    "print(f\"Correlação entre as colunas 'cylinders' e 'weight': {correlacao_cylinders_weight:.2f}\")"
   ]
  },
  {
   "cell_type": "markdown",
   "id": "5d355103",
   "metadata": {},
   "source": [
    "**9. Qual a função nativa do pandas que modifica o tipo de dado um uma coluna do\n",
    "dataframe?**\n",
    "1. dtype( )\n",
    "2. **astype( )**\n",
    "3. type( )\n",
    "4. to_type( )\n",
    "5. value( )\n"
   ]
  },
  {
   "cell_type": "markdown",
   "id": "5665c048",
   "metadata": {},
   "source": [
    "**10. O z-score é uma métrica estatística fundamental para análise de dados, e sua\n",
    "equação é dada abaixo. Qual o significado do z-score?**\n",
    "\n",
    "Z = (X - U)/Q\n",
    "\n",
    "1. Determinar o tipo de distribuição do dado\n",
    "2. Identificar Outliers\n",
    "3. Calcular a discrepência estatística\n",
    "4. **Verificar o quão distante em desvios padrões os dados estão em relação à média.**\n",
    "5. Achar uma tendência média em torno da variância"
   ]
  },
  {
   "cell_type": "markdown",
   "id": "eeb1be02",
   "metadata": {},
   "source": [
    "**11. Quando fazemos a correlação da variáveis, os valores negativos representam o\n",
    "que?**\n",
    "1. **A relação das variáveis são inversamente proporcionais**\n",
    "2. A relação das variáveis são diretamente proporcionais\n",
    "3. A relação das variáveis possuem correlações fracas\n",
    "4. Todas as variáveis estão correlacionadas diretamente\n"
   ]
  },
  {
   "cell_type": "markdown",
   "id": "569cc5c1",
   "metadata": {},
   "source": [
    "**12. Quando montamos um gráfico para comparar qual o ano dos carros\n",
    "apresentaram uma maior economia no mpg, qual ano mostrou o maior desempenho?**\n",
    "1. 70\n",
    "2. 82\n",
    "3. 75\n",
    "4. **80**\n"
   ]
  },
  {
   "cell_type": "code",
   "execution_count": 23,
   "id": "7b2c8a40",
   "metadata": {},
   "outputs": [],
   "source": [
    "# Encontrar o ano com a maior média de mpg\n",
    "media_mpg_por_ano = desafio1.groupby('model year')['mpg'].mean()\n",
    "ano_max_mpg = media_mpg_por_ano.idxmax()\n",
    "max_mpg = media_mpg_por_ano.max()"
   ]
  },
  {
   "cell_type": "code",
   "execution_count": 24,
   "id": "5c1bc1fd",
   "metadata": {},
   "outputs": [],
   "source": [
    "# Encontrar o ano com o maior desempenho (maior valor de acceleration)\n",
    "ano_max_desempenho = desafio1.groupby(\"model year\")[\"acceleration\"].max().idxmax()\n",
    "max_desempenho = desafio1.groupby(\"model year\")[\"acceleration\"].max().max()"
   ]
  },
  {
   "cell_type": "code",
   "execution_count": 25,
   "id": "66256347",
   "metadata": {},
   "outputs": [
    {
     "data": {
      "image/png": "[encoded data removed]",
      "text/plain": [
       "<Figure size 1000x600 with 1 Axes>"
      ]
     },
     "metadata": {},
     "output_type": "display_data"
    }
   ],
   "source": [
    "# Criar um gráfico de barras para comparar os anos de acordo com a economia de mpg e desempenho\n",
    "plt.figure(figsize=(10, 6))\n",
    "plt.bar([f\"Ano {ano_max_mpg} (mpg)\", f\"Ano {ano_max_desempenho} (desempenho)\"], [max_mpg, max_desempenho], color=['blue', 'green'])\n",
    "plt.xlabel(\"Ano do Carro\")\n",
    "plt.ylabel(\"Valor\")\n",
    "plt.title(\"Comparação de Economia de mpg e Desempenho por Ano\")\n",
    "plt.show()"
   ]
  },
  {
   "cell_type": "markdown",
   "id": "12ad7c8b",
   "metadata": {},
   "source": [
    "**13.Os valores nulos dentro de um conjuto de dados sempre atrapalham na\n",
    "visualização e na compreensão das nossas análises. Qual função do pandas identifica\n",
    "que há dados nulos no dataset?**\n",
    "1. **.isnull()**\n",
    "2. .not_null()\n",
    "3. <>\n",
    "4. .to_null()"
   ]
  },
  {
   "cell_type": "code",
   "execution_count": 26,
   "id": "50cba0bd",
   "metadata": {},
   "outputs": [
    {
     "data": {
      "text/plain": [
       "mpg             8\n",
       "cylinders       0\n",
       "displacement    0\n",
       "horsepower      6\n",
       "weight          0\n",
       "acceleration    0\n",
       "model year      0\n",
       "origin          0\n",
       "car name        0\n",
       "dtype: int64"
      ]
     },
     "execution_count": 26,
     "metadata": {},
     "output_type": "execute_result"
    }
   ],
   "source": [
    "desafio1.isnull().sum()"
   ]
  },
  {
   "cell_type": "markdown",
   "id": "2ae67bf5",
   "metadata": {},
   "source": [
    "**14.Muitas das vezes quando precisamos entender a tendencia de como está sendo a\n",
    "evolução dos carros analisados, utilizamos um determinado tipo de gráfico. Qual\n",
    "gráfico utilizamos?**\n",
    "1. Dispensão\n",
    "2. **Linha**\n",
    "3. Barra\n",
    "4. Gráfico de Caixa"
   ]
  },
  {
   "cell_type": "code",
   "execution_count": 27,
   "id": "60841bb3",
   "metadata": {},
   "outputs": [],
   "source": [
    "# Agrupar os dados por ano e calcular a média do consumo de combustível (mpg) para cada ano\n",
    "media_mpg_por_ano = desafio1.groupby('model year')['mpg'].mean()"
   ]
  },
  {
   "cell_type": "code",
   "execution_count": 28,
   "id": "e77fd724",
   "metadata": {},
   "outputs": [
    {
     "data": {
      "image/png": "[encoded data removed]",
      "text/plain": [
       "<Figure size 1000x600 with 1 Axes>"
      ]
     },
     "metadata": {},
     "output_type": "display_data"
    }
   ],
   "source": [
    "# Criar um gráfico de linhas para mostrar a tendência de consumo de combustível ao longo dos anos\n",
    "plt.figure(figsize=(10, 6))\n",
    "plt.plot(media_mpg_por_ano.index, media_mpg_por_ano.values, marker='o')\n",
    "plt.xlabel(\"Ano do Carro\")\n",
    "plt.ylabel(\"Média de mpg\")\n",
    "plt.title(\"Tendência de Consumo de Combustível ao Longo dos Anos\")\n",
    "plt.grid(True)\n",
    "plt.show()"
   ]
  },
  {
   "cell_type": "markdown",
   "id": "03a9e528",
   "metadata": {},
   "source": [
    "**15.Observando o gráfico abaixo, qual das qual das cilindradas há a maior economia\n",
    "de combustível?**"
   ]
  },
  {
   "cell_type": "code",
   "execution_count": 30,
   "id": "4cb9b616",
   "metadata": {},
   "outputs": [
    {
     "data": {
      "image/png": "[encoded data removed]",
      "text/plain": [
       "<Figure size 1000x600 with 1 Axes>"
      ]
     },
     "metadata": {},
     "output_type": "display_data"
    }
   ],
   "source": [
    "# Criar um boxplot usando Seaborn\n",
    "plt.figure(figsize=(10, 6))\n",
    "sns.boxplot(x='cylinders', y='mpg', data=desafio1)\n",
    "plt.xlabel(\"Cilindradas\")\n",
    "plt.ylabel(\"Economia de Combustível (mpg)\")\n",
    "plt.title(\"Economia de Combustível por Cilindradas\")\n",
    "plt.show()"
   ]
  },
  {
   "cell_type": "markdown",
   "id": "8b6821ca",
   "metadata": {},
   "source": [
    "**16.Olhando para o código em python, o que está sendo codado em nosso notebook?**\n",
    "\n",
    "plt.figure(figsize=(24,20))\n",
    "\n",
    "plt.subplot(4, 2, 1)<br>\n",
    "fig df['mpg'].hist(bins=20)<br>\n",
    "fig.set.xlabel('mpg')<br>\n",
    "fig.set_ylabel('número de casos')<br>\n",
    "\n",
    "plt.subplot(4, 2, 2)<br>\n",
    "fig df['cylinders'].hist(bins=20)<br>\n",
    "fig.set.xlabel('cylinders')<br>\n",
    "fig.set_ylabel('número de casos')<br>\n",
    "\n",
    "plt.subplot(4, 2, 3)<br>\n",
    "fig df['displacement'].hist(bins=20)<br>\n",
    "fig.set.xlabel('displacement')<br>\n",
    "fig.set_ylabel('número de casos')<br>\n",
    "\n",
    "plt.subplot(4, 2, 4)<br>\n",
    "fig df['horsepower'].hist(bins=20)<br>\n",
    "fig.set.xlabel('horsepower')<br>\n",
    "fig.set_ylabel('número de casos')<br>\n",
    "\n",
    "plt.subplot(4, 2, 5)<br>\n",
    "fig df['weight'].hist(bins=20)<br>\n",
    "fig.set.xlabel('weight')<br>\n",
    "fig.set_ylabel('número de casos')<br>\n",
    "\n",
    "plt.subplot(4, 2, 6)<br>\n",
    "fig df['acceleration'].hist(bins=20)<br>\n",
    "fig.set.xlabel('acceleration')<br>\n",
    "fig.set_ylabel('número de casos')<br>\n",
    "\n",
    "plt.subplot(4, 2, 7)<br>\n",
    "fig df['model year'].hist(bins=20)<br>\n",
    "fig.set.xlabel('model year')<br>\n",
    "fig.set_ylabel('número de casos')<br>\n",
    "\n",
    "plt.subplot(4, 2, 8)<br>\n",
    "fig df['origin'].hist(bins=20)<br>\n",
    "fig.set.xlabel('origin')<br>\n",
    "fig.set_ylabel('número de casos')<br>\n",
    "\n",
    "1. Construção de um modelo de Machine Learning de Regressão\n",
    "2. **Construção de gráficos de barras**\n",
    "3. Verificando há exististencias de valores correlatos e separando um grande grupos\n",
    "4. Construção de um modelo de Deep Learning - redes convolucionais\n"
   ]
  },
  {
   "cell_type": "markdown",
   "id": "e2b4566d",
   "metadata": {},
   "source": [
    "**17. No python, se quiser colocar uma coluna a mais para dentro do dataframe e\n",
    "adicionar o nome do país nesta coluna, como fazer?**\n",
    "1. **df['cod_pais'] = df.origin.replace([1,2,3],['EUA','Europa','Japão'])**\n",
    "2. df['cod_pais'] = df.origin.add([1,2,3],['EUA','Europa','Japão'])\n",
    "3. df.add['cod_pais'] = df.replace([1,2,3],['EUA','Europa','Japão'])\n",
    "4. df['cod_pais'] = df.origin([1,2,3],['EUA','Europa','Japão'])\n"
   ]
  },
  {
   "cell_type": "markdown",
   "id": "74ab57a8",
   "metadata": {},
   "source": [
    "**18. Qual a função nativa do pandas que faz a contagem distinta de valores em uma\n",
    "coluna ou no dataframe todo?**\n",
    "1. sort( )\n",
    "2. agg( )\n",
    "3. sum( )\n",
    "4. **value_counts( )**\n",
    "5. count( )"
   ]
  },
  {
   "cell_type": "markdown",
   "id": "d4b05dec",
   "metadata": {},
   "source": [
    "**19. Dentro do nosso dataset, queremos saber quantos carros temos e iremos analisar.\n",
    "Quantos carros temos no nosso conjunto de dados?**\n",
    "1. 406\n",
    "2. **312**\n",
    "3. 13\n",
    "4. 83"
   ]
  },
  {
   "cell_type": "markdown",
   "id": "0232e6aa",
   "metadata": {},
   "source": [
    "**20. Qual a função do pandas que utilizamos para evitar que a o índice de um\n",
    "dataframe vire uma coluna após uma modificação?**\n",
    "1. **reset_index(drop=True)**\n",
    "2. remove_index(True)\n",
    "3. drop_index(drop_index=True)\n",
    "4. sort_index(True)"
   ]
  },
  {
   "cell_type": "code",
   "execution_count": null,
   "id": "590091a2",
   "metadata": {},
   "outputs": [],
   "source": []
  }
 ],
 "metadata": {
  "kernelspec": {
   "display_name": "Python 3 (ipykernel)",
   "language": "python",
   "name": "python3"
  },
  "language_info": {
   "codemirror_mode": {
    "name": "ipython",
    "version": 3
   },
   "file_extension": ".py",
   "mimetype": "text/x-python",
   "name": "python",
   "nbconvert_exporter": "python",
   "pygments_lexer": "ipython3",
   "version": "3.10.9"
  }
 },
 "nbformat": 4,
 "nbformat_minor": 5
}
